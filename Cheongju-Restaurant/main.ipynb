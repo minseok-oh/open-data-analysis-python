{
 "cells": [
  {
   "cell_type": "code",
   "execution_count": 1,
   "id": "aff2e1b0",
   "metadata": {},
   "outputs": [
    {
     "name": "stdout",
     "output_type": "stream",
     "text": [
      "Requirement already satisfied: pandas in c:\\users\\home\\anaconda3\\lib\\site-packages (1.4.2)\n",
      "Requirement already satisfied: python-dateutil>=2.8.1 in c:\\users\\home\\anaconda3\\lib\\site-packages (from pandas) (2.8.2)\n",
      "Requirement already satisfied: pytz>=2020.1 in c:\\users\\home\\anaconda3\\lib\\site-packages (from pandas) (2021.3)\n",
      "Requirement already satisfied: numpy>=1.18.5 in c:\\users\\home\\anaconda3\\lib\\site-packages (from pandas) (1.21.5)\n",
      "Requirement already satisfied: six>=1.5 in c:\\users\\home\\anaconda3\\lib\\site-packages (from python-dateutil>=2.8.1->pandas) (1.16.0)\n",
      "Requirement already satisfied: matplotlib in c:\\users\\home\\anaconda3\\lib\\site-packages (3.5.1)\n",
      "Requirement already satisfied: fonttools>=4.22.0 in c:\\users\\home\\anaconda3\\lib\\site-packages (from matplotlib) (4.25.0)\n",
      "Requirement already satisfied: python-dateutil>=2.7 in c:\\users\\home\\anaconda3\\lib\\site-packages (from matplotlib) (2.8.2)\n",
      "Requirement already satisfied: numpy>=1.17 in c:\\users\\home\\anaconda3\\lib\\site-packages (from matplotlib) (1.21.5)\n",
      "Requirement already satisfied: pillow>=6.2.0 in c:\\users\\home\\anaconda3\\lib\\site-packages (from matplotlib) (9.0.1)\n",
      "Requirement already satisfied: pyparsing>=2.2.1 in c:\\users\\home\\anaconda3\\lib\\site-packages (from matplotlib) (3.0.4)\n",
      "Requirement already satisfied: kiwisolver>=1.0.1 in c:\\users\\home\\anaconda3\\lib\\site-packages (from matplotlib) (1.3.2)\n",
      "Requirement already satisfied: cycler>=0.10 in c:\\users\\home\\anaconda3\\lib\\site-packages (from matplotlib) (0.11.0)\n",
      "Requirement already satisfied: packaging>=20.0 in c:\\users\\home\\anaconda3\\lib\\site-packages (from matplotlib) (21.3)\n",
      "Requirement already satisfied: six>=1.5 in c:\\users\\home\\anaconda3\\lib\\site-packages (from python-dateutil>=2.7->matplotlib) (1.16.0)\n",
      "Requirement already satisfied: folium in c:\\users\\home\\anaconda3\\lib\\site-packages (0.12.1.post1)\n",
      "Requirement already satisfied: numpy in c:\\users\\home\\anaconda3\\lib\\site-packages (from folium) (1.21.5)\n",
      "Requirement already satisfied: requests in c:\\users\\home\\anaconda3\\lib\\site-packages (from folium) (2.27.1)\n",
      "Requirement already satisfied: branca>=0.3.0 in c:\\users\\home\\anaconda3\\lib\\site-packages (from folium) (0.5.0)\n",
      "Requirement already satisfied: jinja2>=2.9 in c:\\users\\home\\anaconda3\\lib\\site-packages (from folium) (2.11.3)\n",
      "Requirement already satisfied: MarkupSafe>=0.23 in c:\\users\\home\\anaconda3\\lib\\site-packages (from jinja2>=2.9->folium) (2.0.1)\n",
      "Requirement already satisfied: urllib3<1.27,>=1.21.1 in c:\\users\\home\\anaconda3\\lib\\site-packages (from requests->folium) (1.26.9)\n",
      "Requirement already satisfied: charset-normalizer~=2.0.0 in c:\\users\\home\\anaconda3\\lib\\site-packages (from requests->folium) (2.0.4)\n",
      "Requirement already satisfied: idna<4,>=2.5 in c:\\users\\home\\anaconda3\\lib\\site-packages (from requests->folium) (3.3)\n",
      "Requirement already satisfied: certifi>=2017.4.17 in c:\\users\\home\\anaconda3\\lib\\site-packages (from requests->folium) (2021.10.8)\n",
      "Requirement already satisfied: geopy in c:\\users\\home\\anaconda3\\lib\\site-packages (2.2.0)\n",
      "Requirement already satisfied: geographiclib<2,>=1.49 in c:\\users\\home\\anaconda3\\lib\\site-packages (from geopy) (1.52)\n"
     ]
    }
   ],
   "source": [
    "!pip install pandas\n",
    "!pip install matplotlib\n",
    "!pip install folium\n",
    "!pip install geopy"
   ]
  },
  {
   "cell_type": "code",
   "execution_count": 1,
   "id": "2d9402f5",
   "metadata": {},
   "outputs": [
    {
     "data": {
      "text/html": [
       "<div>\n",
       "<style scoped>\n",
       "    .dataframe tbody tr th:only-of-type {\n",
       "        vertical-align: middle;\n",
       "    }\n",
       "\n",
       "    .dataframe tbody tr th {\n",
       "        vertical-align: top;\n",
       "    }\n",
       "\n",
       "    .dataframe thead th {\n",
       "        text-align: right;\n",
       "    }\n",
       "</style>\n",
       "<table border=\"1\" class=\"dataframe\">\n",
       "  <thead>\n",
       "    <tr style=\"text-align: right;\">\n",
       "      <th></th>\n",
       "      <th>업종명</th>\n",
       "      <th>업소명</th>\n",
       "      <th>소재지(도로명)</th>\n",
       "      <th>소재지(지번)</th>\n",
       "      <th>소재지전화</th>\n",
       "      <th>업태명</th>\n",
       "    </tr>\n",
       "  </thead>\n",
       "  <tbody>\n",
       "    <tr>\n",
       "      <th>0</th>\n",
       "      <td>일반음식점</td>\n",
       "      <td>랑성유황오리</td>\n",
       "      <td>청주시 상당구 낭성면 관정1길 10</td>\n",
       "      <td>청주시 상당구 낭성면 관정리 413-10</td>\n",
       "      <td>043-285-6767</td>\n",
       "      <td>기타</td>\n",
       "    </tr>\n",
       "    <tr>\n",
       "      <th>1</th>\n",
       "      <td>일반음식점</td>\n",
       "      <td>비에이치씨(BHC)청주용정점</td>\n",
       "      <td>청주시 상당구 영운천로133번길 33  1층 (금천동)</td>\n",
       "      <td>청주시 상당구 금천동 452 1층</td>\n",
       "      <td>NaN</td>\n",
       "      <td>호프/통닭</td>\n",
       "    </tr>\n",
       "    <tr>\n",
       "      <th>2</th>\n",
       "      <td>일반음식점</td>\n",
       "      <td>BHC방서동남점</td>\n",
       "      <td>청주시 상당구 월평로238번길 3-5  1층 101호 (용암동)</td>\n",
       "      <td>청주시 상당구 용암동 2035</td>\n",
       "      <td>043-297-1577</td>\n",
       "      <td>호프/통닭</td>\n",
       "    </tr>\n",
       "    <tr>\n",
       "      <th>3</th>\n",
       "      <td>일반음식점</td>\n",
       "      <td>bhc성안점</td>\n",
       "      <td>청주시 상당구 용담로 7  주5동 1층 129호  130호 (문화동  문화동 센트럴...</td>\n",
       "      <td>청주시 상당구 문화동 118 문화동 센트럴칸타빌</td>\n",
       "      <td>NaN</td>\n",
       "      <td>호프/통닭</td>\n",
       "    </tr>\n",
       "    <tr>\n",
       "      <th>4</th>\n",
       "      <td>일반음식점</td>\n",
       "      <td>투썸플레이스청주동남점</td>\n",
       "      <td>청주시 상당구 중고개로125번길 19  1~4층 (용암동)</td>\n",
       "      <td>청주시 상당구 용암동 189-3 1~4층</td>\n",
       "      <td>043-298-1200</td>\n",
       "      <td>경양식</td>\n",
       "    </tr>\n",
       "  </tbody>\n",
       "</table>\n",
       "</div>"
      ],
      "text/plain": [
       "     업종명              업소명                                           소재지(도로명)  \\\n",
       "0  일반음식점           랑성유황오리                                청주시 상당구 낭성면 관정1길 10   \n",
       "1  일반음식점  비에이치씨(BHC)청주용정점                     청주시 상당구 영운천로133번길 33  1층 (금천동)   \n",
       "2  일반음식점         BHC방서동남점                청주시 상당구 월평로238번길 3-5  1층 101호 (용암동)   \n",
       "3  일반음식점           bhc성안점  청주시 상당구 용담로 7  주5동 1층 129호  130호 (문화동  문화동 센트럴...   \n",
       "4  일반음식점      투썸플레이스청주동남점                   청주시 상당구 중고개로125번길 19  1~4층 (용암동)   \n",
       "\n",
       "                       소재지(지번)         소재지전화    업태명  \n",
       "0      청주시 상당구 낭성면 관정리 413-10   043-285-6767     기타  \n",
       "1          청주시 상당구 금천동 452 1층            NaN  호프/통닭  \n",
       "2            청주시 상당구 용암동 2035   043-297-1577  호프/통닭  \n",
       "3  청주시 상당구 문화동 118 문화동 센트럴칸타빌            NaN  호프/통닭  \n",
       "4      청주시 상당구 용암동 189-3 1~4층   043-298-1200    경양식  "
      ]
     },
     "execution_count": 1,
     "metadata": {},
     "output_type": "execute_result"
    }
   ],
   "source": [
    "import pandas as pd\n",
    "data = pd.read_csv('cheongju_restaurant_data.csv', encoding='cp949')\n",
    "data.head()"
   ]
  },
  {
   "cell_type": "code",
   "execution_count": 3,
   "id": "7b66a053",
   "metadata": {},
   "outputs": [],
   "source": [
    "import folium\n",
    "c_map = folium.Map(location=[36.6286, 127.4577], zoom_start=15)\n",
    "c_map.save('./default_cheongju_map.html')"
   ]
  },
  {
   "cell_type": "code",
   "execution_count": 4,
   "id": "002e5f30",
   "metadata": {},
   "outputs": [
    {
     "name": "stdout",
     "output_type": "stream",
     "text": [
      "<class 'str'>\n"
     ]
    },
    {
     "data": {
      "text/plain": [
       "0                                  청주시 상당구 낭성면 관정1길 10\n",
       "1                       청주시 상당구 영운천로133번길 33  1층 (금천동)\n",
       "2                  청주시 상당구 월평로238번길 3-5  1층 101호 (용암동)\n",
       "3    청주시 상당구 용담로 7  주5동 1층 129호  130호 (문화동  문화동 센트럴...\n",
       "4                     청주시 상당구 중고개로125번길 19  1~4층 (용암동)\n",
       "Name: 소재지(도로명), dtype: object"
      ]
     },
     "execution_count": 4,
     "metadata": {},
     "output_type": "execute_result"
    }
   ],
   "source": [
    "address = data['소재지(도로명)']\n",
    "print(type(address[0]))\n",
    "address.head()"
   ]
  },
  {
   "cell_type": "code",
   "execution_count": 5,
   "id": "075211f2",
   "metadata": {},
   "outputs": [
    {
     "name": "stdout",
     "output_type": "stream",
     "text": [
      "0        청주시 상당구 낭성면 관정1길\n",
      "1    청주시 상당구 영운천로133번길 33\n",
      "2    청주시 상당구 월평로238번길 3-5\n",
      "3           청주시 상당구 용담로 7\n",
      "4    청주시 상당구 중고개로125번길 19\n",
      "Name: 소재지(도로명), dtype: object\n"
     ]
    }
   ],
   "source": [
    "for i in range(len(address)):\n",
    "    a = str(address[i]).split(' ')\n",
    "    address[i] = ' '.join(a[0:4])\n",
    "print(address.head())"
   ]
  },
  {
   "cell_type": "code",
   "execution_count": 6,
   "id": "d1737a94",
   "metadata": {},
   "outputs": [],
   "source": [
    "from geopy.geocoders import Nominatim\n",
    "geo_local = Nominatim(user_agent='South Korea')\n",
    "\n",
    "def geocoding(address):\n",
    "    try:\n",
    "        geo = geo_local.geocode(address)\n",
    "        x_y = [geo.latitude, geo.longitude]\n",
    "        return x_y\n",
    "    except:\n",
    "        return [0, 0]"
   ]
  },
  {
   "cell_type": "code",
   "execution_count": 7,
   "id": "4fa16559",
   "metadata": {},
   "outputs": [
    {
     "name": "stdout",
     "output_type": "stream",
     "text": [
      "                업소명         위도          경도\n",
      "0            랑성유황오리   0.000000    0.000000\n",
      "1   비에이치씨(BHC)청주용정점  36.622624  127.511121\n",
      "2          BHC방서동남점  36.606885  127.509173\n",
      "3            bhc성안점  36.632477  127.497701\n",
      "4       투썸플레이스청주동남점   0.000000    0.000000\n",
      "..              ...        ...         ...\n",
      "95             정성한줄  36.618122  127.518795\n",
      "96            장수설렁탕  36.640026  127.489415\n",
      "97           벌떼호프식당   0.000000    0.000000\n",
      "98        고향홍굴부추칼국수  36.607065  127.509324\n",
      "99       새벽집24시정육포차  36.620080  127.512775\n",
      "\n",
      "[100 rows x 3 columns]\n"
     ]
    }
   ],
   "source": [
    "latitude = []\n",
    "longitude = []\n",
    "\n",
    "for i in range(100):\n",
    "    a = geocoding(address[i])\n",
    "    latitude.append(a[0])\n",
    "    longitude.append(a[1])\n",
    "\n",
    "temp_data = data[:100]\n",
    "res_data = pd.DataFrame({'업소명': temp_data['업소명'], '위도': latitude, '경도': longitude})\n",
    "print(res_data)"
   ]
  },
  {
   "cell_type": "code",
   "execution_count": 8,
   "id": "4b66fab5",
   "metadata": {},
   "outputs": [],
   "source": [
    "for name, lat, log in zip(res_data.업소명, res_data.위도, res_data.경도):\n",
    "    if lat == 0 or log == 0: continue\n",
    "    folium.Marker([lat, log], popup=name).add_to(c_map)\n",
    "c_map.save('./marked_cheongju_map.html')"
   ]
  },
  {
   "cell_type": "code",
   "execution_count": 9,
   "id": "d5ecb8aa",
   "metadata": {},
   "outputs": [
    {
     "name": "stdout",
     "output_type": "stream",
     "text": [
      "           count\n",
      "class         31\n",
      "              98\n",
      "SangDang    2585\n",
      "SeoWon      2461\n",
      "CheongWon   2795\n"
     ]
    }
   ],
   "source": [
    "for i in range(len(address)):\n",
    "    a = str(address[i]).split(' ')\n",
    "    address[i] = ' '.join(a[:2])\n",
    "    \n",
    "temp_data = pd.DataFrame({'address': address})\n",
    "temp_data['count'] = 1\n",
    "temp_data = temp_data.groupby('address').sum()\n",
    "temp_data.index = [ 'class', ' ', 'SangDang', 'SeoWon', 'CheongWon', '' ]\n",
    "print(temp_data.head())"
   ]
  },
  {
   "cell_type": "code",
   "execution_count": 10,
   "id": "f69b0ec3",
   "metadata": {},
   "outputs": [
    {
     "data": {
      "image/png": "[encoded data removed]",
      "text/plain": [
       "<Figure size 700x500 with 1 Axes>"
      ]
     },
     "metadata": {},
     "output_type": "display_data"
    }
   ],
   "source": [
    "import matplotlib.pyplot as plt\n",
    "plt.style.use('default')\n",
    "\n",
    "temp_data = temp_data.loc[['SangDang', 'SeoWon', 'CheongWon']]\n",
    "temp_data['count'].plot(kind='pie',\n",
    "                       figsize=(7, 5),\n",
    "                       autopct='%1.1f%%',\n",
    "                       startangle=10,\n",
    "                       colors=['chocolate', 'bisque', 'cadetblue']\n",
    "                       )\n",
    "plt.title('Cheongju Restaurant Ratio by gu', size=20)\n",
    "plt.axis('equal')\n",
    "plt.legend(labels=temp_data.index, loc='upper right')\n",
    "plt.show()"
   ]
  },
  {
   "cell_type": "code",
   "execution_count": null,
   "id": "2e967598",
   "metadata": {},
   "outputs": [],
   "source": []
  }
 ],
 "metadata": {
  "kernelspec": {
   "display_name": "Python 3 (ipykernel)",
   "language": "python",
   "name": "python3"
  },
  "language_info": {
   "codemirror_mode": {
    "name": "ipython",
    "version": 3
   },
   "file_extension": ".py",
   "mimetype": "text/x-python",
   "name": "python",
   "nbconvert_exporter": "python",
   "pygments_lexer": "ipython3",
   "version": "3.9.12"
  }
 },
 "nbformat": 4,
 "nbformat_minor": 5
}
