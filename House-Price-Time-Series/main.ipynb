{
 "cells": [
  {
   "cell_type": "code",
   "execution_count": 30,
   "id": "01ac89d5",
   "metadata": {},
   "outputs": [
    {
     "name": "stdout",
     "output_type": "stream",
     "text": [
      "    주택그룹코드 광역시도  시군구  가격지수_200301  가격지수_200302  가격지수_200303  가격지수_200304  \\\n",
      "213    아파트   서울  노원구         51.8         51.6         51.8         51.9   \n",
      "214    아파트   서울  광진구         55.2         54.9         55.1         55.7   \n",
      "215    아파트   서울  강북구         63.8         63.0         63.4         63.7   \n",
      "216    아파트   서울   강북         55.2         55.0         55.4         55.6   \n",
      "217    아파트   서울   전체         50.1         50.2         50.5         51.5   \n",
      "\n",
      "     가격지수_200305  가격지수_200306  가격지수_200307  ...  가격지수_201912  가격지수_202001  \\\n",
      "213         52.3         52.2         52.1  ...        101.5        101.9   \n",
      "214         57.1         57.5         57.5  ...        104.4        105.1   \n",
      "215         63.9         64.0         64.0  ...        101.0        101.3   \n",
      "216         56.2         56.3         56.3  ...        102.2        102.7   \n",
      "217         52.8         53.2         53.6  ...        102.9        103.6   \n",
      "\n",
      "     가격지수_202002  가격지수_202003  가격지수_202004  가격지수_202005  가격지수_202006  \\\n",
      "213        102.6        103.4        103.8        103.9        105.2   \n",
      "214        105.8        107.5        108.0        108.2        109.1   \n",
      "215        101.6        102.1        102.3        102.4        103.3   \n",
      "216        103.2        103.9        104.1        104.2        104.8   \n",
      "217        104.1        104.9        105.1        105.1        105.6   \n",
      "\n",
      "     가격지수_202007  가격지수_202008  가격지수_202009  \n",
      "213        109.2        113.1        116.9  \n",
      "214        111.3        112.9        114.9  \n",
      "215        106.5        109.8        113.0  \n",
      "216        107.2        109.7        112.3  \n",
      "217        107.9        110.1        112.3  \n",
      "\n",
      "[5 rows x 216 columns]\n",
      "<class 'pandas.core.frame.DataFrame'>\n",
      "RangeIndex: 218 entries, 0 to 217\n",
      "Columns: 216 entries, 주택그룹코드 to 가격지수_202009\n",
      "dtypes: float64(212), int64(1), object(3)\n",
      "memory usage: 368.0+ KB\n",
      "None\n"
     ]
    }
   ],
   "source": [
    "import pandas as pd\n",
    "data = pd.read_csv('./house_price_time_series.csv', encoding='cp949')\n",
    "print(data.tail())\n",
    "print(data.info())"
   ]
  },
  {
   "cell_type": "code",
   "execution_count": 45,
   "id": "d415ecc6",
   "metadata": {},
   "outputs": [
    {
     "name": "stdout",
     "output_type": "stream",
     "text": [
      "        price\n",
      "count   213.0\n",
      "unique  143.0\n",
      "top      82.0\n",
      "freq      7.0\n",
      "<class 'pandas.core.frame.DataFrame'>\n",
      "Index: 213 entries, 가격지수_200301 to 가격지수_202009\n",
      "Data columns (total 1 columns):\n",
      " #   Column  Non-Null Count  Dtype \n",
      "---  ------  --------------  ----- \n",
      " 0   price   213 non-null    object\n",
      "dtypes: object(1)\n",
      "memory usage: 3.3+ KB\n",
      "None\n"
     ]
    }
   ],
   "source": [
    "seoul_price = pd.DataFrame({ 'price': data.loc[216] });\n",
    "seoul_price = seoul_price[3:]\n",
    "seoul_price.fillna(method='pad')\n",
    "\n",
    "print(seoul_price.describe())\n",
    "print(seoul_price.info())"
   ]
  },
  {
   "cell_type": "code",
   "execution_count": 47,
   "id": "35fc1c7c",
   "metadata": {},
   "outputs": [
    {
     "data": {
      "text/html": [
       "<div>\n",
       "<style scoped>\n",
       "    .dataframe tbody tr th:only-of-type {\n",
       "        vertical-align: middle;\n",
       "    }\n",
       "\n",
       "    .dataframe tbody tr th {\n",
       "        vertical-align: top;\n",
       "    }\n",
       "\n",
       "    .dataframe thead th {\n",
       "        text-align: right;\n",
       "    }\n",
       "</style>\n",
       "<table border=\"1\" class=\"dataframe\">\n",
       "  <thead>\n",
       "    <tr style=\"text-align: right;\">\n",
       "      <th></th>\n",
       "      <th>price</th>\n",
       "    </tr>\n",
       "  </thead>\n",
       "  <tbody>\n",
       "    <tr>\n",
       "      <th>가격지수_200301</th>\n",
       "      <td>55.2</td>\n",
       "    </tr>\n",
       "    <tr>\n",
       "      <th>가격지수_200302</th>\n",
       "      <td>55.0</td>\n",
       "    </tr>\n",
       "    <tr>\n",
       "      <th>가격지수_200303</th>\n",
       "      <td>55.4</td>\n",
       "    </tr>\n",
       "    <tr>\n",
       "      <th>가격지수_200304</th>\n",
       "      <td>55.6</td>\n",
       "    </tr>\n",
       "    <tr>\n",
       "      <th>가격지수_200305</th>\n",
       "      <td>56.2</td>\n",
       "    </tr>\n",
       "  </tbody>\n",
       "</table>\n",
       "</div>"
      ],
      "text/plain": [
       "            price\n",
       "가격지수_200301  55.2\n",
       "가격지수_200302  55.0\n",
       "가격지수_200303  55.4\n",
       "가격지수_200304  55.6\n",
       "가격지수_200305  56.2"
      ]
     },
     "execution_count": 47,
     "metadata": {},
     "output_type": "execute_result"
    }
   ],
   "source": [
    "seoul_price.head()"
   ]
  },
  {
   "cell_type": "code",
   "execution_count": 62,
   "id": "d9d3a8bc",
   "metadata": {},
   "outputs": [
    {
     "data": {
      "image/png": "[encoded data removed]",
      "text/plain": [
       "<Figure size 720x504 with 1 Axes>"
      ]
     },
     "metadata": {
      "needs_background": "light"
     },
     "output_type": "display_data"
    }
   ],
   "source": [
    "import matplotlib.pyplot as plt\n",
    "from matplotlib import font_manager, rc\n",
    "font_path = \"C:/Windows/Fonts/gulim.ttc\"\n",
    "font = font_manager.FontProperties(fname=font_path).get_name()\n",
    "rc('font', family=font)\n",
    "\n",
    "seoul_price.plot(figsize=(10, 7))\n",
    "plt.show()"
   ]
  },
  {
   "cell_type": "code",
   "execution_count": null,
   "id": "e5497b74",
   "metadata": {},
   "outputs": [],
   "source": []
  }
 ],
 "metadata": {
  "kernelspec": {
   "display_name": "Python 3 (ipykernel)",
   "language": "python",
   "name": "python3"
  },
  "language_info": {
   "codemirror_mode": {
    "name": "ipython",
    "version": 3
   },
   "file_extension": ".py",
   "mimetype": "text/x-python",
   "name": "python",
   "nbconvert_exporter": "python",
   "pygments_lexer": "ipython3",
   "version": "3.9.12"
  }
 },
 "nbformat": 4,
 "nbformat_minor": 5
}
